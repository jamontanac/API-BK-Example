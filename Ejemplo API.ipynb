{
 "cells": [
  {
   "cell_type": "markdown",
   "metadata": {},
   "source": [
    "# Uso de la API"
   ]
  },
  {
   "cell_type": "code",
   "execution_count": null,
   "metadata": {},
   "outputs": [],
   "source": [
    "from BKAudienceConnector import BK_API as bk\n",
    "import numpy as np\n",
    "import pandas as pd\n",
    "import json"
   ]
  },
  {
   "cell_type": "markdown",
   "metadata": {},
   "source": [
    "La base del codigo son 2 funciones.\n",
    "\n",
    "* __InputBuilder__\n",
    "* __doRequest__\n",
    "\n",
    "las cuales construyen la url para la API y hacen la consulta respectivamente."
   ]
  },
  {
   "cell_type": "markdown",
   "metadata": {},
   "source": [
    "# Descripcion del codigo"
   ]
  },
  {
   "cell_type": "code",
   "execution_count": null,
   "metadata": {},
   "outputs": [],
   "source": [
    "bk.InputBuilder?"
   ]
  },
  {
   "cell_type": "code",
   "execution_count": null,
   "metadata": {},
   "outputs": [],
   "source": [
    "bk.doRequest?"
   ]
  },
  {
   "cell_type": "markdown",
   "metadata": {},
   "source": [
    "# Codigo Fuente del Codigo"
   ]
  },
  {
   "cell_type": "code",
   "execution_count": null,
   "metadata": {},
   "outputs": [],
   "source": [
    "bk.InputBuilder??"
   ]
  },
  {
   "cell_type": "code",
   "execution_count": null,
   "metadata": {},
   "outputs": [],
   "source": [
    "bk.doRequest??"
   ]
  },
  {
   "cell_type": "markdown",
   "metadata": {},
   "source": [
    "# Llaves de Autenticación"
   ]
  },
  {
   "cell_type": "code",
   "execution_count": null,
   "metadata": {},
   "outputs": [],
   "source": [
    "bkuid =  #Web Service User Key\n",
    "bksecretkey = #Web Service Private Key\n",
    "partner_id =  # Partner Id"
   ]
  },
  {
   "cell_type": "markdown",
   "metadata": {},
   "source": [
    "# Revisando que tenemos conexión\n",
    "Para esto usaremos el método de PING proporcionado por la URL\n",
    "\n",
    "\n",
    "``` http://services.bluekai.com/Services/WS/Ping?pid= ```\n",
    "\n",
    "Para esto hacemos uso del metodo GET"
   ]
  },
  {
   "cell_type": "code",
   "execution_count": null,
   "metadata": {},
   "outputs": [],
   "source": [
    "Url=\"https://services.bluekai.com/Services/WS/Ping?pid=\"+partner_id\n",
    "signedUrl = bk.InputBuilder(bkuid=bkuid, bksecretkey=bksecretkey, url=Url, method=\"GET\", data=None)\n",
    "bk.doRequest(url=signedUrl,method=\"GET\", data=None)"
   ]
  },
  {
   "cell_type": "markdown",
   "metadata": {},
   "source": [
    "# Consulta de Audiencias\n",
    "Para hacer esta consulta, podemos ver que la URL para pedir este servicio es\n",
    "\n",
    "```http://services.bluekai.com/Services/WS/audiences?pid=```\n",
    "\n",
    "en donde ```pid```hace referencia al partner id"
   ]
  },
  {
   "cell_type": "code",
   "execution_count": null,
   "metadata": {},
   "outputs": [],
   "source": [
    "Url = \"https://services.bluekai.com/Services/WS/audiences?pid=\"+partner_id\n",
    "signedUrl = bk.InputBuilder(bkuid=bkuid, bksecretkey=bksecretkey, url=Url, method=\"GET\", data=None)\n",
    "Request = bk.doRequest(url=signedUrl, method=\"GET\", data=None)\n",
    "r1 = json.loads(Request)"
   ]
  },
  {
   "cell_type": "code",
   "execution_count": null,
   "metadata": {},
   "outputs": [],
   "source": [
    "r1.keys()"
   ]
  },
  {
   "cell_type": "code",
   "execution_count": null,
   "metadata": {},
   "outputs": [],
   "source": [
    "r1[\"total_count\"]"
   ]
  },
  {
   "cell_type": "code",
   "execution_count": null,
   "metadata": {},
   "outputs": [],
   "source": [
    "r1[\"audiences\"]"
   ]
  },
  {
   "cell_type": "code",
   "execution_count": null,
   "metadata": {},
   "outputs": [],
   "source": [
    "r1[\"audiences\"][2]"
   ]
  },
  {
   "cell_type": "code",
   "execution_count": null,
   "metadata": {},
   "outputs": [],
   "source": [
    "audiences = r1[\"audiences\"]\n",
    "Audience_names_ids = np.array([[i[\"name\"],i[\"id\"]] for i in audiences]) # get the name and the Id of avery audience\n",
    "df = pd.DataFrame(data={\"Id\":Audience_names_ids[:,1],\"Name Audience\":Audience_names_ids[:,0]}) # set the dataframe to organise them"
   ]
  },
  {
   "cell_type": "code",
   "execution_count": null,
   "metadata": {},
   "outputs": [],
   "source": [
    "df"
   ]
  },
  {
   "cell_type": "markdown",
   "metadata": {},
   "source": [
    "# Consultando Audiencias una a una\n",
    "Para esto usamos la misma API pero esta vez especificamos el Id de la Audiencia"
   ]
  },
  {
   "cell_type": "code",
   "execution_count": null,
   "metadata": {},
   "outputs": [],
   "source": [
    "audienceID=df.Id[0]\n",
    "Url = \"https://services.bluekai.com/Services/WS/audiences/\"+audienceID+\"/?pid=\"+partner_id\n",
    "signedUrl = bk.InputBuilder(bkuid, bksecretkey, Url, \"GET\", None)\n",
    "Request = bk.doRequest(url=signedUrl, method=\"GET\", data=None)\n",
    "r1 = json.loads(Request)"
   ]
  },
  {
   "cell_type": "code",
   "execution_count": null,
   "metadata": {},
   "outputs": [],
   "source": [
    "audienceID=df.Id[4]\n",
    "Url = \"https://services.bluekai.com/Services/WS/audiences/\"+audienceID+\"/?pid=\"+partner_id\n",
    "signedUrl = bk.InputBuilder(bkuid, bksecretkey, Url, \"GET\", None)\n",
    "Request = bk.doRequest(url=signedUrl, method=\"GET\", data=None)\n",
    "r1 = json.loads(Request)"
   ]
  },
  {
   "cell_type": "code",
   "execution_count": null,
   "metadata": {},
   "outputs": [],
   "source": [
    "r1"
   ]
  },
  {
   "cell_type": "markdown",
   "metadata": {},
   "source": [
    "# Publicando una audiencia\n",
    "Para esto se hace uso de la misma API pero en esta ocación queremos es utilizar el metodo de POST, lo cual hace que esto sea un poco más complejo."
   ]
  },
  {
   "cell_type": "code",
   "execution_count": null,
   "metadata": {},
   "outputs": [],
   "source": [
    "values  = \"\"\"{\"partner.id\":int,\"name\":str,\"recency\":90,\"prospecting\":true,\"retargeting\":true,\"segments\":{\"AND\":[{\"AND\":[{\"OR\":[{\"cat\":int,\"freq\":[ int , null]}]}]}]},\"labels\":[\"audience label\"],\"countryCodes\":[\"CO\"],\"device_type\":\"all\"}\"\"\"\n",
    "\n",
    "Url = \"https://services.bluekai.com/Services/WS/audiences?pid=\"+partner_id\n",
    "nu = signatureInputBuilder(Url, \"POST\",values)\n",
    "request = doRequest(nu,\"POST\", values)"
   ]
  },
  {
   "cell_type": "markdown",
   "metadata": {},
   "source": [
    "# Realizando consulta de todas las Audiencias"
   ]
  },
  {
   "cell_type": "code",
   "execution_count": null,
   "metadata": {},
   "outputs": [],
   "source": [
    "def Consult_Single_Audience(audienceID:str, pid:str, bkuid:str, bksecretkey:str):\n",
    "    try:\n",
    "        Url = \"https://services.bluekai.com/Services/WS/audiences/\"+audienceID+\"/?pid=\"+pid\n",
    "        signedUrl = bk.InputBuilder(bkuid, bksecretkey, Url, \"GET\", None)\n",
    "        Request = bk.doRequest(url=signedUrl, method=\"GET\", data=None)\n",
    "        d = json.loads(Request)\n",
    "        return [d[\"name\"],d['reach'],d['price'],d['status']]\n",
    "    except:\n",
    "        return [\"Error\",0,0.0,\"\"]"
   ]
  },
  {
   "cell_type": "code",
   "execution_count": null,
   "metadata": {},
   "outputs": [],
   "source": [
    "Consult_Single_Audience(audienceID = df.Id[4],pid = partner_id, bkuid=bkuid, bksecretkey=bksecretkey)"
   ]
  },
  {
   "cell_type": "code",
   "execution_count": null,
   "metadata": {},
   "outputs": [],
   "source": [
    "import multiprocessing\n",
    "from functools import partial"
   ]
  },
  {
   "cell_type": "code",
   "execution_count": null,
   "metadata": {},
   "outputs": [],
   "source": [
    "def GetData_Parallel(pid:str, bkuid:str, bksecretkey:str,List_ids_Audiences:list ,Processors:int = multiprocessing.cpu_count()):\n",
    "    with multiprocessing.Pool(Processors) as p:\n",
    "        Partial_function = partial(Consult_Single_Audience,pid=pid,bkuid=bkuid,bksecretkey= bksecretkey)\n",
    "        request=np.array(p.map(Partial_function,List_ids_Audiences))\n",
    "        df=pd.DataFrame(data=request,columns=[\"Name\",\"Reach\",\"Price\",\"Status\"])\n",
    "    return df"
   ]
  },
  {
   "cell_type": "code",
   "execution_count": null,
   "metadata": {},
   "outputs": [],
   "source": [
    "GetData_Parallel(List_ids_Audiences = df.Id,pid = partner_id, bkuid=bkuid, bksecretkey=bksecretkey)"
   ]
  }
 ],
 "metadata": {
  "kernelspec": {
   "display_name": "Python 3",
   "language": "python",
   "name": "python3"
  },
  "language_info": {
   "codemirror_mode": {
    "name": "ipython",
    "version": 3
   },
   "file_extension": ".py",
   "mimetype": "text/x-python",
   "name": "python",
   "nbconvert_exporter": "python",
   "pygments_lexer": "ipython3",
   "version": "3.7.6"
  }
 },
 "nbformat": 4,
 "nbformat_minor": 4
}
