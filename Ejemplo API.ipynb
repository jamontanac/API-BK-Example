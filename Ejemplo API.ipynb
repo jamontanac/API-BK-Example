{
 "cells": [
  {
   "cell_type": "markdown",
   "metadata": {},
   "source": [
    "# Uso de la API"
   ]
  },
  {
   "cell_type": "code",
   "execution_count": null,
   "metadata": {
    "ExecuteTime": {
     "end_time": "2020-12-23T15:15:03.262653Z",
     "start_time": "2020-12-23T15:15:02.792335Z"
    }
   },
   "outputs": [],
   "source": [
    "from BKAudienceConnector import BK_API as bk\n",
    "import numpy as np\n",
    "import pandas as pd\n",
    "import json"
   ]
  },
  {
   "cell_type": "markdown",
   "metadata": {},
   "source": [
    "La base del codigo son 2 funciones.\n",
    "\n",
    "* __InputBuilder__\n",
    "* __doRequest__\n",
    "\n",
    "las cuales construyen la url para la API y hacen la consulta respectivamente."
   ]
  },
  {
   "cell_type": "markdown",
   "metadata": {},
   "source": [
    "# Descripcion del codigo"
   ]
  },
  {
   "cell_type": "code",
   "execution_count": null,
   "metadata": {
    "ExecuteTime": {
     "end_time": "2020-12-23T15:15:03.476217Z",
     "start_time": "2020-12-23T15:15:03.422203Z"
    }
   },
   "outputs": [],
   "source": [
    "bk.InputBuilder?"
   ]
  },
  {
   "cell_type": "code",
   "execution_count": null,
   "metadata": {
    "ExecuteTime": {
     "end_time": "2020-12-23T15:15:03.615989Z",
     "start_time": "2020-12-23T15:15:03.610053Z"
    }
   },
   "outputs": [],
   "source": [
    "bk.doRequest?"
   ]
  },
  {
   "cell_type": "markdown",
   "metadata": {},
   "source": [
    "# Codigo Fuente del Codigo"
   ]
  },
  {
   "cell_type": "code",
   "execution_count": null,
   "metadata": {
    "ExecuteTime": {
     "end_time": "2020-12-23T15:15:04.271155Z",
     "start_time": "2020-12-23T15:15:04.254131Z"
    }
   },
   "outputs": [],
   "source": [
    "bk.InputBuilder??"
   ]
  },
  {
   "cell_type": "code",
   "execution_count": null,
   "metadata": {
    "ExecuteTime": {
     "end_time": "2020-12-23T15:15:04.859726Z",
     "start_time": "2020-12-23T15:15:04.840710Z"
    }
   },
   "outputs": [],
   "source": [
    "bk.doRequest??"
   ]
  },
  {
   "cell_type": "markdown",
   "metadata": {},
   "source": [
    "# Llaves de Autenticación"
   ]
  },
  {
   "cell_type": "code",
   "execution_count": null,
   "metadata": {
    "ExecuteTime": {
     "end_time": "2020-12-23T15:15:06.176780Z",
     "start_time": "2020-12-23T15:15:06.173779Z"
    }
   },
   "outputs": [],
   "source": [
    "bkuid = \"72c487d4f0318706ce96a0ebe47b906342cb0a2e3610fe182746602c3be6d016\" #Web Service User Key\n",
    "bksecretkey = \"90388366ed94cfaea8ee163e0c64200a587974ce7492ec827b33e84ba644bad0\" #Web Service Private Key\n",
    "partner_id =\"6132\"  # Partner Id"
   ]
  },
  {
   "cell_type": "markdown",
   "metadata": {},
   "source": [
    "# Revisando que tenemos conexión\n",
    "Para esto usaremos el método de PING proporcionado por la URL\n",
    "\n",
    "\n",
    "``` http://services.bluekai.com/Services/WS/Ping?pid= ```\n",
    "\n",
    "Para esto hacemos uso del metodo GET"
   ]
  },
  {
   "cell_type": "code",
   "execution_count": null,
   "metadata": {
    "ExecuteTime": {
     "end_time": "2020-12-23T15:15:10.359182Z",
     "start_time": "2020-12-23T15:15:09.336772Z"
    }
   },
   "outputs": [],
   "source": [
    "Url=\"https://services.bluekai.com/Services/WS/Ping?pid=\"+partner_id\n",
    "signedUrl = bk.InputBuilder(bkuid=bkuid, bksecretkey=bksecretkey, url=Url, method=\"GET\", data=None)\n",
    "bk.doRequest(url=signedUrl,method=\"GET\", data=None)"
   ]
  },
  {
   "cell_type": "markdown",
   "metadata": {},
   "source": [
    "# Consulta de Audiencias\n",
    "Para hacer esta consulta, podemos ver que la URL para pedir este servicio es\n",
    "\n",
    "```http://services.bluekai.com/Services/WS/audiences?pid=```\n",
    "\n",
    "en donde ```pid```hace referencia al partner id"
   ]
  },
  {
   "cell_type": "code",
   "execution_count": null,
   "metadata": {
    "ExecuteTime": {
     "end_time": "2020-12-23T15:15:13.816296Z",
     "start_time": "2020-12-23T15:15:11.246592Z"
    }
   },
   "outputs": [],
   "source": [
    "Url = \"https://services.bluekai.com/Services/WS/audiences?pid=\"+partner_id\n",
    "signedUrl = bk.InputBuilder(bkuid=bkuid, bksecretkey=bksecretkey, url=Url, method=\"GET\", data=None)\n",
    "Request = bk.doRequest(url=signedUrl, method=\"GET\", data=None)\n",
    "r1 = json.loads(Request)"
   ]
  },
  {
   "cell_type": "code",
   "execution_count": null,
   "metadata": {
    "ExecuteTime": {
     "end_time": "2020-12-23T15:15:13.826202Z",
     "start_time": "2020-12-23T15:15:13.819579Z"
    }
   },
   "outputs": [],
   "source": [
    "r1.keys()"
   ]
  },
  {
   "cell_type": "code",
   "execution_count": null,
   "metadata": {
    "ExecuteTime": {
     "end_time": "2020-12-23T15:15:13.838010Z",
     "start_time": "2020-12-23T15:15:13.829166Z"
    }
   },
   "outputs": [],
   "source": [
    "r1[\"total_count\"]"
   ]
  },
  {
   "cell_type": "code",
   "execution_count": null,
   "metadata": {
    "ExecuteTime": {
     "end_time": "2020-12-23T15:15:14.207074Z",
     "start_time": "2020-12-23T15:15:13.840737Z"
    }
   },
   "outputs": [],
   "source": [
    "r1[\"audiences\"]"
   ]
  },
  {
   "cell_type": "code",
   "execution_count": null,
   "metadata": {
    "ExecuteTime": {
     "end_time": "2020-12-23T15:15:14.215828Z",
     "start_time": "2020-12-23T15:15:14.209321Z"
    }
   },
   "outputs": [],
   "source": [
    "r1[\"audiences\"][2]"
   ]
  },
  {
   "cell_type": "code",
   "execution_count": null,
   "metadata": {
    "ExecuteTime": {
     "end_time": "2020-12-23T15:15:14.226433Z",
     "start_time": "2020-12-23T15:15:14.217431Z"
    }
   },
   "outputs": [],
   "source": [
    "audiences = r1[\"audiences\"]\n",
    "Audience_names_ids = np.array([[i[\"name\"],i[\"id\"]] for i in audiences]) # get the name and the Id of avery audience\n",
    "df = pd.DataFrame(data={\"Id\":Audience_names_ids[:,1],\"Name Audience\":Audience_names_ids[:,0]}) # set the dataframe to organise them"
   ]
  },
  {
   "cell_type": "code",
   "execution_count": null,
   "metadata": {
    "ExecuteTime": {
     "end_time": "2020-12-23T15:15:14.248785Z",
     "start_time": "2020-12-23T15:15:14.228820Z"
    }
   },
   "outputs": [],
   "source": [
    "df"
   ]
  },
  {
   "cell_type": "markdown",
   "metadata": {},
   "source": [
    "# Consultando Taxonomia\n",
    "Para esto usamos la API de Taxonomia que ofrece BlueKai\n",
    "```\n",
    "https://services.bluekai.com/Services/WS/Taxonomy?parentId=&fullPath=&bkSize=&device_code=&showBuyable=&showLeafStatus=&description=&vertical=&showReceivedAudienceCategories=&showCategoryPriceAtDate=\n",
    "```"
   ]
  },
  {
   "cell_type": "code",
   "execution_count": null,
   "metadata": {
    "ExecuteTime": {
     "end_time": "2020-12-23T15:23:48.445939Z",
     "start_time": "2020-12-23T15:23:41.658611Z"
    }
   },
   "outputs": [],
   "source": [
    "Url =\"https://services.bluekai.com/Services/WS/Taxonomy?fullPath=1\"\n",
    "signedUrl = bk.InputBuilder(bkuid, bksecretkey, Url, \"GET\", None)\n",
    "Request = bk.doRequest(url=signedUrl, method=\"GET\", data=None)\n",
    "r1 = json.loads(Request)"
   ]
  },
  {
   "cell_type": "code",
   "execution_count": null,
   "metadata": {
    "ExecuteTime": {
     "end_time": "2020-12-23T15:27:42.715349Z",
     "start_time": "2020-12-23T15:27:42.675919Z"
    }
   },
   "outputs": [],
   "source": [
    "path_audience=[]\n",
    "node_name=[]\n",
    "ParentId=[]\n",
    "nodeID=[]\n",
    "for i in r1[\"nodeList\"]:\n",
    "    path_audience.append(i[\"fullPath\"])\n",
    "    node_name.append(i['nodeName'])\n",
    "    ParentId.append(i['parentID'])\n",
    "    nodeID.append(i['nodeID'])"
   ]
  },
  {
   "cell_type": "code",
   "execution_count": null,
   "metadata": {
    "ExecuteTime": {
     "end_time": "2020-12-23T15:33:20.633863Z",
     "start_time": "2020-12-23T15:33:20.559938Z"
    }
   },
   "outputs": [],
   "source": [
    "data={\"fullPath\":path_audience,'nodeName':node_name,'parentID':ParentId,'nodeID':nodeID}\n",
    "df_taxo =pd.DataFrame(data=data)"
   ]
  },
  {
   "cell_type": "code",
   "execution_count": null,
   "metadata": {
    "ExecuteTime": {
     "end_time": "2020-12-23T15:35:16.416980Z",
     "start_time": "2020-12-23T15:35:16.365700Z"
    }
   },
   "outputs": [],
   "source": []
  },
  {
   "cell_type": "code",
   "execution_count": null,
   "metadata": {
    "ExecuteTime": {
     "end_time": "2020-12-23T15:15:23.002612Z",
     "start_time": "2020-12-23T15:15:22.490156Z"
    }
   },
   "outputs": [],
   "source": []
  },
  {
   "cell_type": "code",
   "execution_count": null,
   "metadata": {},
   "outputs": [],
   "source": []
  },
  {
   "cell_type": "code",
   "execution_count": null,
   "metadata": {},
   "outputs": [],
   "source": []
  },
  {
   "cell_type": "code",
   "execution_count": null,
   "metadata": {},
   "outputs": [],
   "source": []
  },
  {
   "cell_type": "code",
   "execution_count": null,
   "metadata": {},
   "outputs": [],
   "source": []
  },
  {
   "cell_type": "code",
   "execution_count": null,
   "metadata": {},
   "outputs": [],
   "source": []
  },
  {
   "cell_type": "code",
   "execution_count": null,
   "metadata": {},
   "outputs": [],
   "source": []
  },
  {
   "cell_type": "code",
   "execution_count": null,
   "metadata": {},
   "outputs": [],
   "source": []
  },
  {
   "cell_type": "code",
   "execution_count": null,
   "metadata": {},
   "outputs": [],
   "source": []
  },
  {
   "cell_type": "code",
   "execution_count": null,
   "metadata": {},
   "outputs": [],
   "source": []
  },
  {
   "cell_type": "markdown",
   "metadata": {},
   "source": [
    "# Consultando una audiencia"
   ]
  },
  {
   "cell_type": "code",
   "execution_count": null,
   "metadata": {},
   "outputs": [],
   "source": [
    "audienceID=df.Id[0]\n",
    "Url = \"https://services.bluekai.com/Services/WS/audiences/\"+audienceID\n",
    "signedUrl = bk.InputBuilder(bkuid, bksecretkey, Url, \"GET\", None)\n",
    "Request = bk.doRequest(url=signedUrl, method=\"GET\", data=None)\n",
    "r1 = json.loads(Request)"
   ]
  },
  {
   "cell_type": "code",
   "execution_count": null,
   "metadata": {},
   "outputs": [],
   "source": [
    "audienceID=df.Id[4]\n",
    "Url = \"https://services.bluekai.com/Services/WS/audiences/\"+audienceID\n",
    "signedUrl = bk.InputBuilder(bkuid, bksecretkey, Url, \"GET\", None)\n",
    "Request = bk.doRequest(url=signedUrl, method=\"GET\", data=None)\n",
    "r1 = json.loads(Request)"
   ]
  },
  {
   "cell_type": "code",
   "execution_count": null,
   "metadata": {},
   "outputs": [],
   "source": [
    "r1"
   ]
  },
  {
   "cell_type": "markdown",
   "metadata": {},
   "source": [
    "# Publicando una audiencia\n",
    "Para esto se hace uso de la misma API pero en esta ocación queremos es utilizar el metodo de POST, lo cual hace que esto sea un poco más complejo."
   ]
  },
  {
   "cell_type": "code",
   "execution_count": null,
   "metadata": {},
   "outputs": [],
   "source": [
    "values  = \"\"\"{\"partner.id\":int,\"name\":str,\"recency\":90,\"prospecting\":true,\"retargeting\":true,\"segments\":{\"AND\":[{\"AND\":[{\"OR\":[{\"cat\":int,\"freq\":[ int , null]}]}]}]},\"labels\":[\"audience label\"],\"countryCodes\":[\"CO\"],\"device_type\":\"all\"}\"\"\"\n",
    "\n",
    "Url = \"https://services.bluekai.com/Services/WS/audiences?pid=\"+partner_id\n",
    "nu = signatureInputBuilder(Url, \"POST\",values)\n",
    "request = doRequest(nu,\"POST\", values)"
   ]
  },
  {
   "cell_type": "markdown",
   "metadata": {},
   "source": [
    "# Realizando consulta de todas las Audiencias"
   ]
  },
  {
   "cell_type": "code",
   "execution_count": null,
   "metadata": {},
   "outputs": [],
   "source": [
    "def Consult_Single_Audience(audienceID:str, pid:str, bkuid:str, bksecretkey:str):\n",
    "    try:\n",
    "        Url = \"https://services.bluekai.com/Services/WS/audiences/\"+audienceID\n",
    "        signedUrl = bk.InputBuilder(bkuid, bksecretkey, Url, \"GET\", None)\n",
    "        Request = bk.doRequest(url=signedUrl, method=\"GET\", data=None)\n",
    "        d = json.loads(Request)\n",
    "        return [d[\"name\"],d['reach'],d['price'],d['status']]\n",
    "    except:\n",
    "        return [\"Error\",0,0.0,\"\"]"
   ]
  },
  {
   "cell_type": "code",
   "execution_count": null,
   "metadata": {},
   "outputs": [],
   "source": [
    "Consult_Single_Audience(audienceID = df.Id[4],pid = partner_id, bkuid=bkuid, bksecretkey=bksecretkey)"
   ]
  },
  {
   "cell_type": "code",
   "execution_count": null,
   "metadata": {},
   "outputs": [],
   "source": [
    "import multiprocessing\n",
    "from functools import partial"
   ]
  },
  {
   "cell_type": "code",
   "execution_count": null,
   "metadata": {},
   "outputs": [],
   "source": [
    "def GetData_Parallel(pid:str, bkuid:str, bksecretkey:str,List_ids_Audiences:list ,Processors:int = multiprocessing.cpu_count()):\n",
    "    with multiprocessing.Pool(Processors) as p:\n",
    "        Partial_function = partial(Consult_Single_Audience,pid=pid,bkuid=bkuid,bksecretkey= bksecretkey)\n",
    "        request=np.array(p.map(Partial_function,List_ids_Audiences))\n",
    "        df=pd.DataFrame(data=request,columns=[\"Name\",\"Reach\",\"Price\",\"Status\"])\n",
    "    return df"
   ]
  },
  {
   "cell_type": "code",
   "execution_count": null,
   "metadata": {},
   "outputs": [],
   "source": [
    "GetData_Parallel(List_ids_Audiences = df.Id,pid = partner_id, bkuid=bkuid, bksecretkey=bksecretkey)"
   ]
  }
 ],
 "metadata": {
  "kernelspec": {
   "display_name": "Python 3",
   "language": "python",
   "name": "python3"
  },
  "language_info": {
   "codemirror_mode": {
    "name": "ipython",
    "version": 3
   },
   "file_extension": ".py",
   "mimetype": "text/x-python",
   "name": "python",
   "nbconvert_exporter": "python",
   "pygments_lexer": "ipython3",
   "version": "3.7.6"
  }
 },
 "nbformat": 4,
 "nbformat_minor": 4
}
